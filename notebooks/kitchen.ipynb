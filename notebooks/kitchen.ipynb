{
 "cells": [
  {
   "cell_type": "code",
   "execution_count": 198,
   "metadata": {},
   "outputs": [],
   "source": [
    "import pandas as pd\n",
    "import re\n",
    "from pydantic import BaseModel, Field, field_validator, computed_field\n",
    "from datetime import datetime"
   ]
  },
  {
   "cell_type": "code",
   "execution_count": 50,
   "metadata": {},
   "outputs": [],
   "source": [
    "path = '../data/jumble_data.json'\n",
    "\n",
    "df = pd.read_json(path_or_buf=path, lines=True)\n",
    "df.sort_values(\"value_date\", inplace=True)\n",
    "\n",
    "df_clues = df[df['jumbled'].apply(lambda x: len(x) > 17)].copy()\n",
    "df_jumbles = df[df['jumbled'].apply(lambda x: len(x) <= 17)].copy()"
   ]
  },
  {
   "cell_type": "code",
   "execution_count": 207,
   "metadata": {},
   "outputs": [],
   "source": [
    "class Jumble(BaseModel):\n",
    "    jumbled: str = Field(..., description=\"Scrambled word\")\n",
    "    unjumbled: str = Field(..., description=\"The un-scrambled word\")\n",
    "    _clue_indices: list[int]\n",
    "    \n",
    "    @field_validator(\"unjumbled\")\n",
    "    def solution_has_same_letters_as_scrambled(cls, input_value: str, values):\n",
    "        scrambled = values.data.get(\"jumbled\")\n",
    "        if set(scrambled) != set(input_value):\n",
    "            raise ValueError(\"The unjumbled must contain the same letters as the jumbled word\")\n",
    "        return input_value\n",
    "    \n",
    "    @property\n",
    "    def lenght(self) -> int:\n",
    "        return len(self.jumbled)\n",
    "    \n",
    "    @computed_field\n",
    "    @property\n",
    "    def clue_indices(self) -> list[int]:\n",
    "        return self._clue_indices\n",
    "    \n",
    "    @clue_indices.setter\n",
    "    def clue_indices(self, value: list[int]) -> None:\n",
    "        self.validate_indices(value)\n",
    "        self._clue_indices = value\n",
    "        \n",
    "    def validate_indices(self, value: list[int]):\n",
    "        assert max(value) < self.lenght\n",
    "        assert min(value) >= 0\n",
    "        \n",
    "    def __hash__(self) -> int:\n",
    "        return hash(self.unjumbled)\n",
    "\n",
    "\n",
    "class JumbleGame(BaseModel):\n",
    "    value_date: datetime | str\n",
    "    solution: str = Field(..., description=\"The missing words in the clue_sentence\")\n",
    "    jumbles: list[Jumble]\n",
    "    clue_sentence: str = Field(..., description=\"The sentence with missing words to guess\")\n",
    "\n",
    "    @field_validator(\"value_date\")\n",
    "    def format_value_date(cls, value: str | datetime) -> datetime:\n",
    "        if isinstance(value, str):\n",
    "            value = datetime.strptime(value, \"%Y-%m-%d\")\n",
    "        return value\n",
    "\n",
    "    @field_validator(\"solution\")\n",
    "    def remove_all_non_alphabetical_letters(cls, value: str) -> str:\n",
    "        cleaned_string = re.sub(r'[^a-zA-Z]', '', value)\n",
    "        return cleaned_string.upper()\n",
    "\n",
    "\n",
    "    @field_validator(\"jumbles\")\n",
    "    def assign_clue_indices_to_each_jumble(cls, value: list[Jumble], values) -> list[Jumble]:\n",
    "        solution = values.data.get('solution')\n",
    "        jumbles = []\n",
    "        for jumble, indices in cls.find_indices(solution, jumbles=value).items():\n",
    "            if len(indices) > 0:\n",
    "                # only add jumble word if it its contributing to the solution\n",
    "                jumble.clue_indices = indices\n",
    "                jumbles.append(jumble)\n",
    "            \n",
    "        # make sure the letter from all the jumbles return the desired word\n",
    "        clue_letters = ''.join(\n",
    "            [cls.create_substring(t.jumbled, t.clue_indices) for t in jumbles]\n",
    "        )\n",
    "        assert set(solution) == set(clue_letters), ValueError(\"clue letters do not match the solution!\")\n",
    "        return jumbles\n",
    "        \n",
    "    @staticmethod\n",
    "    def find_indices(solution: str, jumbles: list[Jumble]):\n",
    "        # Convert the solution word to a list so we can manipulate it\n",
    "        solution_letters = list(solution)\n",
    "        \n",
    "        # This will store the indices for each letter found\n",
    "        letter_indices = {word: [] for word in jumbles}\n",
    "        \n",
    "        # This will keep track of used letters so we don't reuse them\n",
    "        used_indices = {word: [] for word in jumbles}\n",
    "        \n",
    "        for s_letter in solution_letters:\n",
    "            found = False\n",
    "            for jumble in jumbles:\n",
    "                scrambled = jumble.jumbled\n",
    "                for i, w_letter in enumerate(scrambled):\n",
    "                    if s_letter == w_letter and i not in used_indices[jumble]:\n",
    "                        # If the letter in the solution word matches the letter in the word\n",
    "                        # And it has not been used yet, add the index to the list\n",
    "                        letter_indices[jumble].append(i)\n",
    "                        used_indices[jumble].append(i)\n",
    "                        found = True\n",
    "                        break  # Break the inner loop and go to the next letter in the solution word\n",
    "                if found:\n",
    "                    break  # Break the outer loop since we've found our letter\n",
    "            \n",
    "            if not found:\n",
    "                raise ValueError(f\"Letter {s_letter} not found in any word of the initial list.\")\n",
    "        \n",
    "        return letter_indices\n",
    "    \n",
    "    def set_clue_indices(self) -> None:\n",
    "        for jumble, indices in self.find_indices().items():\n",
    "            jumble.clue_indices = indices\n",
    "       \n",
    "    @staticmethod     \n",
    "    def create_substring(string, indices):\n",
    "        substring = ''\n",
    "        for index in indices:\n",
    "            substring += string[index]\n",
    "        return substring"
   ]
  },
  {
   "cell_type": "code",
   "execution_count": 213,
   "metadata": {},
   "outputs": [],
   "source": [
    "all_games = []\n",
    "for value_date, df_j in df_jumbles.groupby(\"value_date\"):\n",
    "    df_ref_clues = df_clues.loc[df_clues['value_date']==value_date].copy()\n",
    "    for idx, row in df_ref_clues.iterrows():\n",
    "        clue_sentence = row['jumbled']\n",
    "        solution = row['unjumbled']\n",
    "        # get all jumbles \n",
    "        df_candidates = df_j[~df_j['unjumbled'].isin(df_ref_clues['unjumbled'].unique())].copy()\n",
    "        jumbles = [Jumble(**t) for t in df_candidates[['jumbled', 'unjumbled']].to_dict('records')]\n",
    "        # create game\n",
    "        game = JumbleGame(\n",
    "            value_date=value_date,\n",
    "            jumbles=jumbles,\n",
    "            clue_sentence=clue_sentence,\n",
    "            solution=solution\n",
    "        )\n",
    "        all_games.append(game)\n",
    "        \n",
    "all_games = sorted(all_games, key= lambda x: (x.value_date, x.solution))"
   ]
  },
  {
   "cell_type": "code",
   "execution_count": null,
   "metadata": {},
   "outputs": [],
   "source": []
  },
  {
   "attachments": {},
   "cell_type": "markdown",
   "metadata": {},
   "source": [
    "# OpenAI exploration"
   ]
  },
  {
   "cell_type": "code",
   "execution_count": 6,
   "metadata": {},
   "outputs": [],
   "source": [
    "import openai\n",
    "from pydantic import Field\n",
    "from openai_function_call import OpenAISchema"
   ]
  },
  {
   "cell_type": "code",
   "execution_count": 11,
   "metadata": {},
   "outputs": [],
   "source": [
    "class JumbleClue(OpenAISchema):\n",
    "    \"\"\"Class representing a sentence used as a clue for a Jumble game\"\"\"\n",
    "    clue_sentence: str = Field(..., description=\"Sentence with gaps to be filled.\")\n",
    "    solution: str = Field(..., description=\"The words to use to fill the gaps in the clue-sentence.\")\n",
    "    full_sentence: str = Field(..., description=\"The full sentence with all words.\")\n",
    "    \n",
    "class JumbleCluesCollection(OpenAISchema):\n",
    "    \"\"\"List of jumble clues\"\"\"\n",
    "    clues: list[JumbleClue]"
   ]
  },
  {
   "cell_type": "code",
   "execution_count": 32,
   "metadata": {},
   "outputs": [],
   "source": [
    "def generate_jumble_clues(data: str) -> JumbleCluesCollection:\n",
    "    completion = openai.ChatCompletion.create(\n",
    "        model=\"gpt-3.5-turbo-0613\",\n",
    "        temperature=0.1,\n",
    "        functions=[JumbleCluesCollection.openai_schema],\n",
    "        function_call={\"name\": JumbleCluesCollection.openai_schema[\"name\"]},\n",
    "        messages=[\n",
    "            {\n",
    "                \"role\": \"user\",\n",
    "                \"content\": f\"Consider the data below: '\\n{data}' and for each entry generate the full sentence using the provided sentence with gaps (clue-sentence) and solution.\",\n",
    "            },\n",
    "        ],\n",
    "        max_tokens=1000,\n",
    "    )\n",
    "    return JumbleCluesCollection.from_response(completion)"
   ]
  },
  {
   "cell_type": "code",
   "execution_count": 33,
   "metadata": {},
   "outputs": [],
   "source": [
    "results = generate_jumble_clues(\n",
    "    data=\"\"\"\n",
    "    [{'clue_sentence': 'After she learned to consistently tie her own shoes,',\n",
    "    'solution': 'ITWASACINCH'},\n",
    "    {'clue_sentence': 'Elvis Presley’s 1957 hit song had some people',\n",
    "    'solution': 'ALLSHOOKUP'},\n",
    "    {'clue_sentence': 'In 1981, this person successfully sued the “National Enquirer” for libel.',\n",
    "    'solution': 'CAROL'},\n",
    "    {'clue_sentence': 'When they visited Arizona’s famous canyon, the family had a',\n",
    "    'solution': 'GRANDTIME'},\n",
    "    {'clue_sentence': 'When Alfred Hitchcock’s movie, “The Birds,” premiered in 1963, people',\n",
    "    'solution': 'FLOCKEDTOIT'}]\n",
    "    \"\"\"\n",
    ")"
   ]
  },
  {
   "cell_type": "code",
   "execution_count": 34,
   "metadata": {},
   "outputs": [],
   "source": [
    "r = results.clues[0]"
   ]
  },
  {
   "cell_type": "code",
   "execution_count": 37,
   "metadata": {},
   "outputs": [
    {
     "data": {
      "text/plain": [
       "['After she learned to consistently tie her own shoes, IT WAS A CINCH.',\n",
       " 'Elvis Presley’s 1957 hit song had some people ALL SHOOK UP.',\n",
       " 'In 1981, this person successfully sued the “National Enquirer” for libel. CAROL.',\n",
       " 'When they visited Arizona’s famous canyon, the family had a GRAND TIME.',\n",
       " 'When Alfred Hitchcock’s movie, “The Birds,” premiered in 1963, people FLOCKED TO IT.']"
      ]
     },
     "execution_count": 37,
     "metadata": {},
     "output_type": "execute_result"
    }
   ],
   "source": [
    "[r.full_sentence for r in results.clues]"
   ]
  },
  {
   "cell_type": "code",
   "execution_count": null,
   "metadata": {},
   "outputs": [],
   "source": [
    "sentence = \"After she learned to consistently tie her own shoes, it was a cinch.\""
   ]
  },
  {
   "cell_type": "code",
   "execution_count": null,
   "metadata": {},
   "outputs": [],
   "source": [
    "67-5"
   ]
  },
  {
   "cell_type": "code",
   "execution_count": null,
   "metadata": {},
   "outputs": [],
   "source": []
  }
 ],
 "metadata": {
  "kernelspec": {
   "display_name": ".venv",
   "language": "python",
   "name": "python3"
  },
  "language_info": {
   "codemirror_mode": {
    "name": "ipython",
    "version": 3
   },
   "file_extension": ".py",
   "mimetype": "text/x-python",
   "name": "python",
   "nbconvert_exporter": "python",
   "pygments_lexer": "ipython3",
   "version": "3.11.1"
  },
  "orig_nbformat": 4
 },
 "nbformat": 4,
 "nbformat_minor": 2
}
