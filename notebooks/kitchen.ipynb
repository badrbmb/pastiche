{
 "cells": [
  {
   "cell_type": "code",
   "execution_count": 1,
   "metadata": {},
   "outputs": [],
   "source": [
    "%load_ext autoreload\n",
    "%autoreload 2"
   ]
  },
  {
   "cell_type": "code",
   "execution_count": 2,
   "metadata": {},
   "outputs": [],
   "source": [
    "from sqlalchemy import select\n",
    "from pastiche import tables\n",
    "from pastiche.database import SessionLocal\n",
    "from datetime import date"
   ]
  },
  {
   "cell_type": "code",
   "execution_count": 17,
   "metadata": {},
   "outputs": [
    {
     "name": "stdout",
     "output_type": "stream",
     "text": [
      "<pastiche.tables.JumbleGame object at 0x13316f990>\n"
     ]
    }
   ],
   "source": [
    "with SessionLocal() as db:\n",
    "    solutions = db.query(tables.JumbleGame).limit(10).all()\n",
    "    print(solutions[0])"
   ]
  },
  {
   "cell_type": "code",
   "execution_count": 4,
   "metadata": {},
   "outputs": [],
   "source": [
    "import pandas as pd\n",
    "from pastiche.game import JumbleGame, JumbleGameCollection\n",
    "from tqdm import tqdm"
   ]
  },
  {
   "cell_type": "code",
   "execution_count": 5,
   "metadata": {},
   "outputs": [
    {
     "name": "stderr",
     "output_type": "stream",
     "text": [
      "100%|██████████| 1061/1061 [00:00<00:00, 7460.96it/s]\n"
     ]
    }
   ],
   "source": [
    "path = '../data/jumble_answers_data.json'\n",
    "\n",
    "data = JumbleGameCollection.from_jumble_answers(path)"
   ]
  },
  {
   "cell_type": "code",
   "execution_count": 7,
   "metadata": {},
   "outputs": [],
   "source": [
    "game = data.games[0]"
   ]
  },
  {
   "cell_type": "code",
   "execution_count": 11,
   "metadata": {},
   "outputs": [
    {
     "data": {
      "text/plain": [
       "('DAYINDAYOUT', 'DAY IN (AND) DAY OUT')"
      ]
     },
     "execution_count": 11,
     "metadata": {},
     "output_type": "execute_result"
    }
   ],
   "source": [
    "game.solution, game.solution_unjumbled"
   ]
  },
  {
   "cell_type": "code",
   "execution_count": 13,
   "metadata": {},
   "outputs": [],
   "source": [
    "def sanitize_solution(solution: str, letters: str, sub: str = \"*\"):\n",
    "    \"\"\"\n",
    "    Sanitises a solution by replacing all letters present in solution by _ without touching the words special characters or worlds between ()\n",
    "    example:\n",
    "    sanitize_solution('DAY IN (AND) DAY OUT', 'DAYINDAYOUT')\n",
    "    >>> '*** ** (AND) *** ***'\n",
    "    \"\"\"\n",
    "    output = []\n",
    "    in_parenthesis = False\n",
    "    for character in solution:\n",
    "        # Check if character is '(', and then we start skipping\n",
    "        if character == '(':\n",
    "            in_parenthesis = True\n",
    "        # Check if character is ')', and then we stop skipping\n",
    "        elif character == ')':\n",
    "            in_parenthesis = False\n",
    "        # If character is not in parenthesis & found in letters, replace it with sub\n",
    "        if not in_parenthesis and character.upper() in letters.upper() and character.isalpha():\n",
    "            output.append(sub)\n",
    "        else: # Append the character as it is.\n",
    "            output.append(character)\n",
    "    return ''.join(output)\n"
   ]
  },
  {
   "cell_type": "code",
   "execution_count": 22,
   "metadata": {},
   "outputs": [
    {
     "name": "stdout",
     "output_type": "stream",
     "text": [
      "DAY IN (AND) DAY OUT | *** ** (AND) *** ***\n",
      "“WADE” AND SEE | “****” *** ***\n",
      "RUNNING TOTAL | ******* *****\n",
      "A LITTLE DIFFERENT | * ****** *********\n",
      "APPLY HIMSELF | ***** *******\n",
      "TAUGHT TAUT | ****** ****\n",
      "QUOTATION “MARX” | ********* “****”\n",
      "GRAB A BITE | **** * ****\n",
      "NOT “YETI” | *** “****”\n",
      "TOOK IT (TO) HEART | **** ** (TO) *****\n"
     ]
    }
   ],
   "source": [
    "for s in solutions:\n",
    "    sanitized = sanitize_solution(s.solution_unjumbled, s.solution)\n",
    "    print(s.solution_unjumbled, \"|\", sanitized)\n",
    "    assert len(sanitized) == len(s.solution_unjumbled)"
   ]
  },
  {
   "cell_type": "code",
   "execution_count": 24,
   "metadata": {},
   "outputs": [],
   "source": [
    "from datetime import timedelta"
   ]
  },
  {
   "cell_type": "code",
   "execution_count": 30,
   "metadata": {},
   "outputs": [],
   "source": [
    "from itertools import groupby"
   ]
  },
  {
   "cell_type": "code",
   "execution_count": 40,
   "metadata": {},
   "outputs": [],
   "source": [
    "value_dates = [date(2022, 1, 1), date(2022, 1, 2), date(2022, 1, 5), date(2022, 1, 6), date(2022, 1, 10)]\n",
    "\n",
    "date_range = [value_dates[0] + timedelta(days=x)\n",
    "              for x in range((value_dates[-1]-value_dates[0]).days + 1)]\n",
    "\n",
    "dates_to_check = [(t, t in value_dates) for t in date_range]\n",
    "\n",
    "consecutive_dates = []\n",
    "for k, g in groupby(enumerate(dates_to_check), lambda x: x[1]):\n",
    "    if k[1]:\n",
    "        consecutive_dates.append(list(map(lambda x: k[0], list(g))))"
   ]
  },
  {
   "cell_type": "code",
   "execution_count": 77,
   "metadata": {},
   "outputs": [
    {
     "name": "stdout",
     "output_type": "stream",
     "text": [
      "True\n",
      "[(0, True), (1, True)]\n",
      "False\n",
      "[(2, False), (3, False)]\n",
      "True\n",
      "[(4, True), (5, True)]\n",
      "False\n",
      "[(6, False), (7, False), (8, False)]\n",
      "True\n",
      "[(9, True)]\n"
     ]
    }
   ],
   "source": [
    "df = pd.DataFrame(index=value_dates,columns=['played'])\n",
    "df['played'] = 1\n",
    "df.index = pd.to_datetime(df.index)\n",
    "df = df.resample(\"D\").first()\n",
    "\n",
    "played_dates = ~df['played'].isnull()\n",
    "\n",
    "from itertools import groupby\n",
    "\n",
    "consecutive_dates = []\n",
    "for k, g in groupby(enumerate(played_dates), lambda x: x[1]):\n",
    "    print(k)\n",
    "    print(list(g))\n",
    "    if k:\n",
    "        consecutive_dates.append(list(map(lambda x: x[0], list(g))))"
   ]
  },
  {
   "cell_type": "code",
   "execution_count": 74,
   "metadata": {},
   "outputs": [
    {
     "data": {
      "text/plain": [
       "[[], [], []]"
      ]
     },
     "execution_count": 74,
     "metadata": {},
     "output_type": "execute_result"
    }
   ],
   "source": [
    "consecutive_missing"
   ]
  },
  {
   "cell_type": "code",
   "execution_count": null,
   "metadata": {},
   "outputs": [],
   "source": []
  },
  {
   "cell_type": "code",
   "execution_count": null,
   "metadata": {},
   "outputs": [],
   "source": [
    "replace_dict = {\n",
    "        \"“PURR” HIS REQUEST\": \"“PURR” (HIS) REQUEST\",\n",
    "        \"ASSIGNED THE JOB\": \"ASSIGNED (THE) JOB\",\n",
    "        \"FOR THE BIRDS\": \"FOR (THE) BIRDS\",\n",
    "        \"GO HAND IN HAND\": \"GO HAND (IN) HAND\",\n",
    "        \"ALL IN A DAY’S WORK\": \"ALL IN (A) DAY’S WORK\",\n",
    "        \"LOST HIS SHIRT\": \"LOST (HIS) SHIRT\",\n",
    "        \"HOT UNDER THE COLLAR\": \"HOT UNDER (THE) COLLAR\",\n",
    "        \"BORE THE BRUNT OF IT\": \"BORE (THE) BRUNT OF IT\",\n",
    "        \"BREAK IT TO HER\": \"BREAK (IT) TO HER\",\n",
    "        \"FILLED THE BILL\": \"FILLED (THE) BILL\",\n",
    "        \"ROAD TO RECOVERY\": \"ROAD (TO) RECOVERY\",\n",
    "        \"COURT FOR THE COURT\": \"COURT FOR (THE) COURT\",\n",
    "        \"MADE A NAME FOR HIMSELF\": \"MADE A NAME (FOR) HIMSELF\",\n",
    "        \"“WRITE” FOR THE JOB\": \"“WRITE” FOR (THE) JOB\",\n",
    "        \"LEFT THE PREMISES\": \"LEFT (THE) PREMISES\",\n",
    "        \"DOWN TO A TRICKLE\": \"DOWN (TO) A TRICKLE\",\n",
    "        \"END OF THE “RODE”\": \"END OF (THE) “RODE”\",\n",
    "        \"RAISING HER CHILDREN\": \"RAISING (HER) CHILDREN\",\n",
    "        \"BANNED THE BAND\": \"BANNED (THE) BAND\",\n",
    "        \"HAD THE UPPER HAND\": \"HAD (THE) UPPER HAND\",\n",
    "        \"BEAR TO THE RIGHT\": \"BEAR TO (THE) RIGHT\",\n",
    "        \"SEEING WAS BELIEVING\": \"SEEING (WAS) BELIEVING\",\n",
    "        \"THROUGH THE ROOF\": \"THROUGH (THE) ROOF\",\n",
    "        \"HEART OF THE CITY\": \"HEART OF (THE) CITY\",\n",
    "        \"KEEP AN OPEN MIND\": \"KEEP (AN) OPEN MIND\",\n",
    "        \"HAS A “FLARE” FOR IT\": \"HAS (A) “FLARE” FOR IT\",\n",
    "        \"LOST HIS BALANCE\": \"LOST (HIS) BALANCE\",\n",
    "        \"DOWN THE HATCH\": \"DOWN (THE) HATCH\",\n",
    "        \"REFUSE THE REFUSE\": \"REFUSE (THE) REFUSE\",\n",
    "        \"TO SAY THE “LEASED”\": \"TO SAY (THE) “LEASED”\",\n",
    "        \"“WAY” THEIR OPTIONS\": \"“WAY” (THEIR) OPTIONS\"\n",
    "     }\n",
    "\n",
    "# df['solution_unjumbled'] = df['solution_unjumbled'].replace()"
   ]
  },
  {
   "cell_type": "code",
   "execution_count": null,
   "metadata": {},
   "outputs": [],
   "source": []
  },
  {
   "attachments": {},
   "cell_type": "markdown",
   "metadata": {},
   "source": [
    "# OpenAI exploration"
   ]
  },
  {
   "cell_type": "code",
   "execution_count": null,
   "metadata": {},
   "outputs": [],
   "source": [
    "import openai\n",
    "from pydantic import Field\n",
    "from openai_function_call import OpenAISchema"
   ]
  },
  {
   "cell_type": "code",
   "execution_count": null,
   "metadata": {},
   "outputs": [],
   "source": [
    "# class JumbleClue(OpenAISchema):\n",
    "#     \"\"\"Class representing a sentence used as a clue for a Jumble game\"\"\"\n",
    "#     clue_sentence: str = Field(..., description=\"Sentence with gaps to be filled.\")\n",
    "#     solution: str = Field(..., description=\"The words to use to fill the gaps in the clue-sentence. The solution can be made of multiple words and these words are not separated by a space.\")\n",
    "#     full_sentence: str = Field(..., description=\"The full sentence with all words.\")\n",
    "    \n",
    "# class JumbleCluesCollection(OpenAISchema):\n",
    "#     \"\"\"List of jumble clues\"\"\"\n",
    "#     clues: list[JumbleClue]\n",
    "    \n",
    "# prompt1 = \"\"\"\n",
    "# Consider the data below: '\\n{data}'. \n",
    "#                 For each entry in the list, follow the following steps:\n",
    "#                 1. identify where are the gaps in the `clue_sentence`.\n",
    "#                 2. reconstruct the correct words using the `solution` by adding missing spaces\n",
    "#                 3. use the reconstructed solution to create a `full_sentence` by filling the gaps in the `clue_sentence`\n",
    "# \"\"\"\n"
   ]
  },
  {
   "cell_type": "code",
   "execution_count": null,
   "metadata": {},
   "outputs": [],
   "source": [
    "class JumbleClue(OpenAISchema):\n",
    "    \"\"\"Class representing a sentence used as a clue for a Jumble game\"\"\"\n",
    "    word: str = Field(..., description=\"A list of letters defining one or multiple words without any space\")\n",
    "    word_with_spaces: str | None = Field(..., description=\"list of words recreated from `word` with the missing spaces added\")\n",
    "    \n",
    "class JumbleCluesCollection(OpenAISchema):\n",
    "    \"\"\"List of jumble clues\"\"\"\n",
    "    clues: list[JumbleClue]\n",
    "   \n",
    "prompt2 = \"\"\"\n",
    "Consider the data below: '\\n{data}'. For each word, reconstruct the correct words by adding missing spaces.\n",
    "\"\"\""
   ]
  },
  {
   "cell_type": "code",
   "execution_count": null,
   "metadata": {},
   "outputs": [],
   "source": [
    "def generate_jumble_clues(data: str) -> JumbleCluesCollection:\n",
    "    completion = openai.ChatCompletion.create(\n",
    "        model=\"gpt-4\",\n",
    "        temperature=0.1,\n",
    "        functions=[JumbleCluesCollection.openai_schema],\n",
    "        function_call={\"name\": JumbleCluesCollection.openai_schema[\"name\"]},\n",
    "        messages=[\n",
    "            {\n",
    "                \"role\": \"user\",\n",
    "                \"content\": f\"Consider the data below: '\\n{data}'. For each word, reconstruct the correct words by adding missing spaces. If you can't find a match please return None.\"\n",
    "            },\n",
    "        ],\n",
    "        max_tokens=1000,\n",
    "    )\n",
    "    return JumbleCluesCollection.from_response(completion)"
   ]
  },
  {
   "cell_type": "code",
   "execution_count": null,
   "metadata": {},
   "outputs": [],
   "source": [
    "results = generate_jumble_clues(\n",
    "    data=solutions[:10]\n",
    ")"
   ]
  },
  {
   "cell_type": "code",
   "execution_count": null,
   "metadata": {},
   "outputs": [],
   "source": [
    "results"
   ]
  },
  {
   "cell_type": "code",
   "execution_count": null,
   "metadata": {},
   "outputs": [],
   "source": []
  }
 ],
 "metadata": {
  "kernelspec": {
   "display_name": ".venv",
   "language": "python",
   "name": "python3"
  },
  "language_info": {
   "codemirror_mode": {
    "name": "ipython",
    "version": 3
   },
   "file_extension": ".py",
   "mimetype": "text/x-python",
   "name": "python",
   "nbconvert_exporter": "python",
   "pygments_lexer": "ipython3",
   "version": "3.11.1"
  },
  "orig_nbformat": 4
 },
 "nbformat": 4,
 "nbformat_minor": 2
}
