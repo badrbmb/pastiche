{
 "cells": [
  {
   "cell_type": "code",
   "execution_count": 1,
   "metadata": {},
   "outputs": [],
   "source": [
    "%load_ext autoreload\n",
    "%autoreload 2"
   ]
  },
  {
   "cell_type": "code",
   "execution_count": 2,
   "metadata": {},
   "outputs": [],
   "source": [
    "from sqlalchemy import select\n",
    "from pastiche import tables\n",
    "from pastiche.database import SessionLocal"
   ]
  },
  {
   "cell_type": "code",
   "execution_count": 3,
   "metadata": {},
   "outputs": [
    {
     "name": "stdout",
     "output_type": "stream",
     "text": [
      "GNIES\n"
     ]
    }
   ],
   "source": [
    "with SessionLocal() as db:\n",
    "    result = db.query(tables.JumbleGame).first()\n",
    "    print(result.jumbles[0].jumbled)"
   ]
  },
  {
   "cell_type": "code",
   "execution_count": null,
   "metadata": {},
   "outputs": [],
   "source": []
  },
  {
   "attachments": {},
   "cell_type": "markdown",
   "metadata": {},
   "source": [
    "# OpenAI exploration"
   ]
  },
  {
   "cell_type": "code",
   "execution_count": null,
   "metadata": {},
   "outputs": [],
   "source": [
    "import openai\n",
    "from pydantic import Field\n",
    "from openai_function_call import OpenAISchema"
   ]
  },
  {
   "cell_type": "code",
   "execution_count": null,
   "metadata": {},
   "outputs": [],
   "source": [
    "class JumbleClue(OpenAISchema):\n",
    "    \"\"\"Class representing a sentence used as a clue for a Jumble game\"\"\"\n",
    "    clue_sentence: str = Field(..., description=\"Sentence with gaps to be filled.\")\n",
    "    solution: str = Field(..., description=\"The words to use to fill the gaps in the clue-sentence.\")\n",
    "    full_sentence: str = Field(..., description=\"The full sentence with all words.\")\n",
    "    \n",
    "class JumbleCluesCollection(OpenAISchema):\n",
    "    \"\"\"List of jumble clues\"\"\"\n",
    "    clues: list[JumbleClue]"
   ]
  },
  {
   "cell_type": "code",
   "execution_count": null,
   "metadata": {},
   "outputs": [],
   "source": [
    "def generate_jumble_clues(data: str) -> JumbleCluesCollection:\n",
    "    completion = openai.ChatCompletion.create(\n",
    "        model=\"gpt-3.5-turbo-0613\",\n",
    "        temperature=0.1,\n",
    "        functions=[JumbleCluesCollection.openai_schema],\n",
    "        function_call={\"name\": JumbleCluesCollection.openai_schema[\"name\"]},\n",
    "        messages=[\n",
    "            {\n",
    "                \"role\": \"user\",\n",
    "                \"content\": f\"Consider the data below: '\\n{data}' and for each entry generate the full sentence using the provided sentence with gaps (clue-sentence) and solution.\",\n",
    "            },\n",
    "        ],\n",
    "        max_tokens=1000,\n",
    "    )\n",
    "    return JumbleCluesCollection.from_response(completion)"
   ]
  },
  {
   "cell_type": "code",
   "execution_count": null,
   "metadata": {},
   "outputs": [],
   "source": [
    "results = generate_jumble_clues(\n",
    "    data=\"\"\"\n",
    "    [{'clue_sentence': 'After she learned to consistently tie her own shoes,',\n",
    "    'solution': 'ITWASACINCH'},\n",
    "    {'clue_sentence': 'Elvis Presley’s 1957 hit song had some people',\n",
    "    'solution': 'ALLSHOOKUP'},\n",
    "    {'clue_sentence': 'In 1981, this person successfully sued the “National Enquirer” for libel.',\n",
    "    'solution': 'CAROL'},\n",
    "    {'clue_sentence': 'When they visited Arizona’s famous canyon, the family had a',\n",
    "    'solution': 'GRANDTIME'},\n",
    "    {'clue_sentence': 'When Alfred Hitchcock’s movie, “The Birds,” premiered in 1963, people',\n",
    "    'solution': 'FLOCKEDTOIT'}]\n",
    "    \"\"\"\n",
    ")"
   ]
  },
  {
   "cell_type": "code",
   "execution_count": null,
   "metadata": {},
   "outputs": [],
   "source": [
    "r = results.clues[0]"
   ]
  },
  {
   "cell_type": "code",
   "execution_count": null,
   "metadata": {},
   "outputs": [],
   "source": [
    "[r.full_sentence for r in results.clues]"
   ]
  },
  {
   "cell_type": "code",
   "execution_count": null,
   "metadata": {},
   "outputs": [],
   "source": [
    "sentence = \"After she learned to consistently tie her own shoes, it was a cinch.\""
   ]
  },
  {
   "cell_type": "code",
   "execution_count": null,
   "metadata": {},
   "outputs": [],
   "source": [
    "67-5"
   ]
  },
  {
   "cell_type": "code",
   "execution_count": null,
   "metadata": {},
   "outputs": [],
   "source": []
  }
 ],
 "metadata": {
  "kernelspec": {
   "display_name": ".venv",
   "language": "python",
   "name": "python3"
  },
  "language_info": {
   "codemirror_mode": {
    "name": "ipython",
    "version": 3
   },
   "file_extension": ".py",
   "mimetype": "text/x-python",
   "name": "python",
   "nbconvert_exporter": "python",
   "pygments_lexer": "ipython3",
   "version": "3.11.1"
  },
  "orig_nbformat": 4
 },
 "nbformat": 4,
 "nbformat_minor": 2
}
