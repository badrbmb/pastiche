{
 "cells": [
  {
   "cell_type": "code",
   "execution_count": 1,
   "metadata": {},
   "outputs": [],
   "source": [
    "%load_ext autoreload\n",
    "%autoreload 2"
   ]
  },
  {
   "cell_type": "code",
   "execution_count": 68,
   "metadata": {},
   "outputs": [],
   "source": [
    "from sqlalchemy import select\n",
    "from pastiche import tables\n",
    "from pastiche.database import SessionLocal\n",
    "from datetime import date"
   ]
  },
  {
   "cell_type": "code",
   "execution_count": 57,
   "metadata": {},
   "outputs": [
    {
     "name": "stdout",
     "output_type": "stream",
     "text": [
      "('ITWASACINCH',)\n"
     ]
    }
   ],
   "source": [
    "with SessionLocal() as db:\n",
    "    solutions = db.query(tables.JumbleGame.solution).all()\n",
    "    print(solutions[0])"
   ]
  },
  {
   "cell_type": "code",
   "execution_count": 6,
   "metadata": {},
   "outputs": [],
   "source": []
  },
  {
   "attachments": {},
   "cell_type": "markdown",
   "metadata": {},
   "source": [
    "# OpenAI exploration"
   ]
  },
  {
   "cell_type": "code",
   "execution_count": 9,
   "metadata": {},
   "outputs": [],
   "source": [
    "import openai\n",
    "from pydantic import Field\n",
    "from openai_function_call import OpenAISchema"
   ]
  },
  {
   "cell_type": "code",
   "execution_count": 45,
   "metadata": {},
   "outputs": [],
   "source": [
    "# class JumbleClue(OpenAISchema):\n",
    "#     \"\"\"Class representing a sentence used as a clue for a Jumble game\"\"\"\n",
    "#     clue_sentence: str = Field(..., description=\"Sentence with gaps to be filled.\")\n",
    "#     solution: str = Field(..., description=\"The words to use to fill the gaps in the clue-sentence. The solution can be made of multiple words and these words are not separated by a space.\")\n",
    "#     full_sentence: str = Field(..., description=\"The full sentence with all words.\")\n",
    "    \n",
    "# class JumbleCluesCollection(OpenAISchema):\n",
    "#     \"\"\"List of jumble clues\"\"\"\n",
    "#     clues: list[JumbleClue]\n",
    "    \n",
    "# prompt1 = \"\"\"\n",
    "# Consider the data below: '\\n{data}'. \n",
    "#                 For each entry in the list, follow the following steps:\n",
    "#                 1. identify where are the gaps in the `clue_sentence`.\n",
    "#                 2. reconstruct the correct words using the `solution` by adding missing spaces\n",
    "#                 3. use the reconstructed solution to create a `full_sentence` by filling the gaps in the `clue_sentence`\n",
    "# \"\"\"\n"
   ]
  },
  {
   "cell_type": "code",
   "execution_count": 59,
   "metadata": {},
   "outputs": [],
   "source": [
    "class JumbleClue(OpenAISchema):\n",
    "    \"\"\"Class representing a sentence used as a clue for a Jumble game\"\"\"\n",
    "    word: str = Field(..., description=\"A list of letters defining one or multiple words without any space\")\n",
    "    word_with_spaces: str | None = Field(..., description=\"list of words recreated from `word` with the missing spaces added\")\n",
    "    \n",
    "class JumbleCluesCollection(OpenAISchema):\n",
    "    \"\"\"List of jumble clues\"\"\"\n",
    "    clues: list[JumbleClue]\n",
    "   \n",
    "prompt2 = \"\"\"\n",
    "Consider the data below: '\\n{data}'. For each word, reconstruct the correct words by adding missing spaces.\n",
    "\"\"\""
   ]
  },
  {
   "cell_type": "code",
   "execution_count": 64,
   "metadata": {},
   "outputs": [],
   "source": [
    "def generate_jumble_clues(data: str) -> JumbleCluesCollection:\n",
    "    completion = openai.ChatCompletion.create(\n",
    "        model=\"gpt-4\",\n",
    "        temperature=0.1,\n",
    "        functions=[JumbleCluesCollection.openai_schema],\n",
    "        function_call={\"name\": JumbleCluesCollection.openai_schema[\"name\"]},\n",
    "        messages=[\n",
    "            {\n",
    "                \"role\": \"user\",\n",
    "                \"content\": f\"Consider the data below: '\\n{data}'. For each word, reconstruct the correct words by adding missing spaces. If you can't find a match please return None.\"\n",
    "            },\n",
    "        ],\n",
    "        max_tokens=1000,\n",
    "    )\n",
    "    return JumbleCluesCollection.from_response(completion)"
   ]
  },
  {
   "cell_type": "code",
   "execution_count": 65,
   "metadata": {},
   "outputs": [],
   "source": [
    "results = generate_jumble_clues(\n",
    "    data=solutions[:10]\n",
    ")"
   ]
  },
  {
   "cell_type": "code",
   "execution_count": 66,
   "metadata": {},
   "outputs": [
    {
     "data": {
      "text/plain": [
       "JumbleCluesCollection(clues=[JumbleClue(word='ITWASACINCH', word_with_spaces=None), JumbleClue(word='ALLSHOOKUP', word_with_spaces=None), JumbleClue(word='VANNA', word_with_spaces=None), JumbleClue(word='CAROL', word_with_spaces=None), JumbleClue(word='HOLETRUTH', word_with_spaces=None), JumbleClue(word='GRANDTIME', word_with_spaces=None), JumbleClue(word='FLOCKEDTOIT', word_with_spaces=None), JumbleClue(word='INMANYRESPECTS', word_with_spaces=None), JumbleClue(word='WEIGHINGONHIM', word_with_spaces=None), JumbleClue(word='SEATRANQUILITY', word_with_spaces=None)])"
      ]
     },
     "execution_count": 66,
     "metadata": {},
     "output_type": "execute_result"
    }
   ],
   "source": [
    "results"
   ]
  },
  {
   "cell_type": "code",
   "execution_count": null,
   "metadata": {},
   "outputs": [],
   "source": []
  }
 ],
 "metadata": {
  "kernelspec": {
   "display_name": ".venv",
   "language": "python",
   "name": "python3"
  },
  "language_info": {
   "codemirror_mode": {
    "name": "ipython",
    "version": 3
   },
   "file_extension": ".py",
   "mimetype": "text/x-python",
   "name": "python",
   "nbconvert_exporter": "python",
   "pygments_lexer": "ipython3",
   "version": "3.11.1"
  },
  "orig_nbformat": 4
 },
 "nbformat": 4,
 "nbformat_minor": 2
}
